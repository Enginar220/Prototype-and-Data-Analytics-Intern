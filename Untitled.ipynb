{
 "cells": [
  {
   "cell_type": "markdown",
   "id": "07406aa7",
   "metadata": {},
   "source": [
    "# Question4:\n",
    "\n",
    "**Code Implementation Task: Implement code to fill the missing data (impute) in daily_vaccinations column per country with the minimum daily vaccination number of relevant countries.  \n",
    "Note: If a country does not have any valid vaccination number yet, fill it with “0” (zero). \n",
    "Please  provide the link to your code as answer to this question.**"
   ]
  },
  {
   "cell_type": "code",
   "execution_count": 35,
   "id": "e18d8e99",
   "metadata": {},
   "outputs": [],
   "source": [
    "#Import the libraries,\n",
    "\n",
    "import pandas as pd"
   ]
  },
  {
   "cell_type": "code",
   "execution_count": 36,
   "id": "b9904c9d",
   "metadata": {},
   "outputs": [],
   "source": [
    "#Load the dataset,\n",
    "\n",
    "df = pd.read_csv(\"country_vaccination_stats.csv\")"
   ]
  },
  {
   "cell_type": "code",
   "execution_count": 37,
   "id": "9f7e7a0d",
   "metadata": {},
   "outputs": [
    {
     "data": {
      "text/html": [
       "<div>\n",
       "<style scoped>\n",
       "    .dataframe tbody tr th:only-of-type {\n",
       "        vertical-align: middle;\n",
       "    }\n",
       "\n",
       "    .dataframe tbody tr th {\n",
       "        vertical-align: top;\n",
       "    }\n",
       "\n",
       "    .dataframe thead th {\n",
       "        text-align: right;\n",
       "    }\n",
       "</style>\n",
       "<table border=\"1\" class=\"dataframe\">\n",
       "  <thead>\n",
       "    <tr style=\"text-align: right;\">\n",
       "      <th></th>\n",
       "      <th>country</th>\n",
       "      <th>date</th>\n",
       "      <th>daily_vaccinations</th>\n",
       "      <th>vaccines</th>\n",
       "    </tr>\n",
       "  </thead>\n",
       "  <tbody>\n",
       "    <tr>\n",
       "      <th>0</th>\n",
       "      <td>Argentina</td>\n",
       "      <td>12/29/2020</td>\n",
       "      <td>NaN</td>\n",
       "      <td>Sputnik V</td>\n",
       "    </tr>\n",
       "    <tr>\n",
       "      <th>1</th>\n",
       "      <td>Argentina</td>\n",
       "      <td>12/30/2020</td>\n",
       "      <td>15656.0</td>\n",
       "      <td>Sputnik V</td>\n",
       "    </tr>\n",
       "    <tr>\n",
       "      <th>2</th>\n",
       "      <td>Argentina</td>\n",
       "      <td>12/31/2020</td>\n",
       "      <td>15656.0</td>\n",
       "      <td>Sputnik V</td>\n",
       "    </tr>\n",
       "    <tr>\n",
       "      <th>3</th>\n",
       "      <td>Argentina</td>\n",
       "      <td>1/1/2021</td>\n",
       "      <td>11070.0</td>\n",
       "      <td>Sputnik V</td>\n",
       "    </tr>\n",
       "    <tr>\n",
       "      <th>4</th>\n",
       "      <td>Argentina</td>\n",
       "      <td>1/2/2021</td>\n",
       "      <td>8776.0</td>\n",
       "      <td>Sputnik V</td>\n",
       "    </tr>\n",
       "  </tbody>\n",
       "</table>\n",
       "</div>"
      ],
      "text/plain": [
       "     country        date  daily_vaccinations   vaccines\n",
       "0  Argentina  12/29/2020                 NaN  Sputnik V\n",
       "1  Argentina  12/30/2020             15656.0  Sputnik V\n",
       "2  Argentina  12/31/2020             15656.0  Sputnik V\n",
       "3  Argentina    1/1/2021             11070.0  Sputnik V\n",
       "4  Argentina    1/2/2021              8776.0  Sputnik V"
      ]
     },
     "execution_count": 37,
     "metadata": {},
     "output_type": "execute_result"
    }
   ],
   "source": [
    "#Let's take a look at our data,\n",
    "\n",
    "df.head()"
   ]
  },
  {
   "cell_type": "code",
   "execution_count": 38,
   "id": "a870f327",
   "metadata": {},
   "outputs": [
    {
     "name": "stdout",
     "output_type": "stream",
     "text": [
      "<class 'pandas.core.frame.DataFrame'>\n",
      "RangeIndex: 1502 entries, 0 to 1501\n",
      "Data columns (total 4 columns):\n",
      " #   Column              Non-Null Count  Dtype  \n",
      "---  ------              --------------  -----  \n",
      " 0   country             1502 non-null   object \n",
      " 1   date                1502 non-null   object \n",
      " 2   daily_vaccinations  1442 non-null   float64\n",
      " 3   vaccines            1502 non-null   object \n",
      "dtypes: float64(1), object(3)\n",
      "memory usage: 47.1+ KB\n"
     ]
    }
   ],
   "source": [
    "df.info()"
   ]
  },
  {
   "cell_type": "code",
   "execution_count": 39,
   "id": "299729de",
   "metadata": {},
   "outputs": [
    {
     "data": {
      "text/html": [
       "<div>\n",
       "<style scoped>\n",
       "    .dataframe tbody tr th:only-of-type {\n",
       "        vertical-align: middle;\n",
       "    }\n",
       "\n",
       "    .dataframe tbody tr th {\n",
       "        vertical-align: top;\n",
       "    }\n",
       "\n",
       "    .dataframe thead th {\n",
       "        text-align: right;\n",
       "    }\n",
       "</style>\n",
       "<table border=\"1\" class=\"dataframe\">\n",
       "  <thead>\n",
       "    <tr style=\"text-align: right;\">\n",
       "      <th></th>\n",
       "      <th>country</th>\n",
       "      <th>date</th>\n",
       "      <th>daily_vaccinations</th>\n",
       "      <th>vaccines</th>\n",
       "    </tr>\n",
       "  </thead>\n",
       "  <tbody>\n",
       "    <tr>\n",
       "      <th>0</th>\n",
       "      <td>Argentina</td>\n",
       "      <td>12/29/2020</td>\n",
       "      <td>6483.0</td>\n",
       "      <td>Sputnik V</td>\n",
       "    </tr>\n",
       "    <tr>\n",
       "      <th>1</th>\n",
       "      <td>Argentina</td>\n",
       "      <td>12/30/2020</td>\n",
       "      <td>15656.0</td>\n",
       "      <td>Sputnik V</td>\n",
       "    </tr>\n",
       "    <tr>\n",
       "      <th>2</th>\n",
       "      <td>Argentina</td>\n",
       "      <td>12/31/2020</td>\n",
       "      <td>15656.0</td>\n",
       "      <td>Sputnik V</td>\n",
       "    </tr>\n",
       "    <tr>\n",
       "      <th>3</th>\n",
       "      <td>Argentina</td>\n",
       "      <td>1/1/2021</td>\n",
       "      <td>11070.0</td>\n",
       "      <td>Sputnik V</td>\n",
       "    </tr>\n",
       "    <tr>\n",
       "      <th>4</th>\n",
       "      <td>Argentina</td>\n",
       "      <td>1/2/2021</td>\n",
       "      <td>8776.0</td>\n",
       "      <td>Sputnik V</td>\n",
       "    </tr>\n",
       "  </tbody>\n",
       "</table>\n",
       "</div>"
      ],
      "text/plain": [
       "     country        date  daily_vaccinations   vaccines\n",
       "0  Argentina  12/29/2020              6483.0  Sputnik V\n",
       "1  Argentina  12/30/2020             15656.0  Sputnik V\n",
       "2  Argentina  12/31/2020             15656.0  Sputnik V\n",
       "3  Argentina    1/1/2021             11070.0  Sputnik V\n",
       "4  Argentina    1/2/2021              8776.0  Sputnik V"
      ]
     },
     "execution_count": 39,
     "metadata": {},
     "output_type": "execute_result"
    }
   ],
   "source": [
    "#Group the data by country,\n",
    "\n",
    "grouped = df.groupby(\"country\")\n",
    "\n",
    "\n",
    "#We define a function that fills the missing values with the minimum value of the group/or zero(based on the condition),\n",
    "\n",
    "def fill_missing(group):\n",
    "    # If all values are missing, fill with 0\n",
    "    if group[\"daily_vaccinations\"].isnull().all():\n",
    "        group[\"daily_vaccinations\"] = 0\n",
    "    else:\n",
    "        # Otherwise, fill missing values with the minimum value of the group\n",
    "        group[\"daily_vaccinations\"] = group[\"daily_vaccinations\"].fillna(group[\"daily_vaccinations\"].min())\n",
    "    return group\n",
    "\n",
    "#Apply the impute function to each group,\n",
    "\n",
    "df_altered = grouped.apply(fill_missing)\n",
    "\n",
    "df_altered.head()"
   ]
  },
  {
   "cell_type": "markdown",
   "id": "9c412739",
   "metadata": {},
   "source": [
    "# Question6:\n",
    "\n",
    "\n",
    "**Code Implementation Task: Implement code to list the top-3 countries with highest median daily vaccination numbers by considering missing values imputed version of dataset.**"
   ]
  },
  {
   "cell_type": "code",
   "execution_count": 41,
   "id": "b5e8b5c3",
   "metadata": {},
   "outputs": [
    {
     "name": "stdout",
     "output_type": "stream",
     "text": [
      "country\n",
      "United States    378253.0\n",
      "China            276786.0\n",
      "India            173922.0\n",
      "Name: daily_vaccinations, dtype: float64\n"
     ]
    }
   ],
   "source": [
    "#Group the data by country and calculate the median daily vaccination numbers,\n",
    "median_daily_vaccinations = df_altered.groupby('country')['daily_vaccinations'].median()\n",
    "\n",
    "#Sort the data by median daily vaccination numbers in descending order,\n",
    "sorted_data = median_daily_vaccinations.sort_values(ascending=False)\n",
    "\n",
    "#Select the top 3 countries with highest median daily vaccination numbers,\n",
    "top_3_countries = sorted_data.head(3)\n",
    "\n",
    "print(top_3_countries)"
   ]
  },
  {
   "cell_type": "markdown",
   "id": "16933d43",
   "metadata": {},
   "source": [
    "# Question7:\n",
    "\n",
    "**What is the number of total vaccinations done on 1/6/2021 (MM/DD/YYYY) by considering missing values imputed version of dataset?**"
   ]
  },
  {
   "cell_type": "code",
   "execution_count": 45,
   "id": "3869837e",
   "metadata": {},
   "outputs": [
    {
     "name": "stdout",
     "output_type": "stream",
     "text": [
      "0.0\n"
     ]
    }
   ],
   "source": [
    "#Filter the data to only include data from 1/6/2021,\n",
    "date_filter = df_altered['date'] == '01/06/2021'\n",
    "filtered_data = df_altered[date_filter]\n",
    "\n",
    "\n",
    "#Calculate the total vaccinations done on 1/6/2021,\n",
    "total_vaccinations = filtered_data['daily_vaccinations'].sum()\n",
    "\n",
    "print(total_vaccinations)"
   ]
  },
  {
   "cell_type": "markdown",
   "id": "41beba68",
   "metadata": {},
   "source": [
    "# Question8:\n",
    "\n",
    "**Code Implementation Task: If this list would be a database table, please provide SQL query to fill in the missing daily vaccination numbers with discrete median of country as similar to question a.  \n",
    "Note: This time SQL equivalent is requested, and imputation value is median of each country, not minimum. Please remember filling countries with zero if they do not have any valid daily_vaccination records like Kuwait.**"
   ]
  },
  {
   "cell_type": "code",
   "execution_count": 49,
   "id": "a4b73f45",
   "metadata": {},
   "outputs": [
    {
     "data": {
      "text/plain": [
       "'\\nUPDATE vaccinations v1\\nSET daily_vaccinations = (\\n    SELECT COALESCE(median_daily_vaccinations, 0)\\n    FROM (\\n        SELECT country, MEDIAN(daily_vaccinations) OVER (PARTITION BY country) AS median_daily_vaccinations\\n        FROM vaccinations\\n        WHERE daily_vaccinations IS NOT NULL\\n    ) AS medians\\n    WHERE medians.country = v1.country\\n)\\nWHERE daily_vaccinations IS NULL;\\n'"
      ]
     },
     "execution_count": 49,
     "metadata": {},
     "output_type": "execute_result"
    }
   ],
   "source": [
    "# we assumed that we have our data in the vaccinations table in the database..\n",
    "\"\"\"\n",
    "UPDATE vaccinations v1\n",
    "SET daily_vaccinations = (\n",
    "    SELECT COALESCE(median_daily_vaccinations, 0)\n",
    "    FROM (\n",
    "        SELECT country, MEDIAN(daily_vaccinations) OVER (PARTITION BY country) AS median_daily_vaccinations\n",
    "        FROM vaccinations\n",
    "        WHERE daily_vaccinations IS NOT NULL\n",
    "    ) AS medians\n",
    "    WHERE medians.country = v1.country\n",
    ")\n",
    "WHERE daily_vaccinations IS NULL;\n",
    "\"\"\""
   ]
  },
  {
   "cell_type": "code",
   "execution_count": null,
   "id": "b1807e4b",
   "metadata": {},
   "outputs": [],
   "source": []
  }
 ],
 "metadata": {
  "kernelspec": {
   "display_name": "Python 3 (ipykernel)",
   "language": "python",
   "name": "python3"
  },
  "language_info": {
   "codemirror_mode": {
    "name": "ipython",
    "version": 3
   },
   "file_extension": ".py",
   "mimetype": "text/x-python",
   "name": "python",
   "nbconvert_exporter": "python",
   "pygments_lexer": "ipython3",
   "version": "3.9.12"
  }
 },
 "nbformat": 4,
 "nbformat_minor": 5
}
